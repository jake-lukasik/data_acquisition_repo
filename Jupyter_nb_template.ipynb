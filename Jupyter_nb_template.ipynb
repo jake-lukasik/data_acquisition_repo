{
  "cells": [
    {
      "attachments": {},
      "cell_type": "markdown",
      "metadata": {
        "id": "WKhZGEmEmMPu"
      },
      "source": [
        "# Nittany Motorsports Data Acquisition Project\n",
        "## Insert Analysis Title Here\n",
        "### Name, date\n"
      ]
    },
    {
      "attachments": {},
      "cell_type": "markdown",
      "metadata": {
        "id": "cbGuA0mqO9IX"
      },
      "source": [
        "Type in a markdown cell like this to do analysis, description"
      ]
    },
    {
      "cell_type": "code",
      "execution_count": null,
      "metadata": {
        "id": "Yh50IBvdM3mk"
      },
      "outputs": [],
      "source": [
        "#Insert your code in a code cell like this"
      ]
    }
  ],
  "metadata": {
    "colab": {
      "provenance": []
    },
    "kernelspec": {
      "display_name": "base",
      "language": "python",
      "name": "python3"
    },
    "language_info": {
      "codemirror_mode": {
        "name": "ipython",
        "version": 3
      },
      "file_extension": ".py",
      "mimetype": "text/x-python",
      "name": "python",
      "nbconvert_exporter": "python",
      "pygments_lexer": "ipython3",
      "version": "3.9.13"
    },
    "vscode": {
      "interpreter": {
        "hash": "68f0d50c839012943873e0eed34e0177b775822721c96c7a445f91f68b908636"
      }
    }
  },
  "nbformat": 4,
  "nbformat_minor": 0
}
